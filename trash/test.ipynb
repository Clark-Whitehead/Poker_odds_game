{
 "cells": [
  {
   "cell_type": "code",
   "execution_count": 14,
   "id": "006589f8",
   "metadata": {},
   "outputs": [],
   "source": [
    "import os"
   ]
  },
  {
   "cell_type": "code",
   "execution_count": 15,
   "id": "34e5d726",
   "metadata": {},
   "outputs": [],
   "source": [
    "def main():\n",
    "    print(\"clark\")"
   ]
  },
  {
   "cell_type": "code",
   "execution_count": 22,
   "id": "76d8437f",
   "metadata": {},
   "outputs": [
    {
     "ename": "SyntaxError",
     "evalue": "invalid syntax (<ipython-input-22-2d8a7f2e51d6>, line 1)",
     "output_type": "error",
     "traceback": [
      "\u001b[0;36m  File \u001b[0;32m\"<ipython-input-22-2d8a7f2e51d6>\"\u001b[0;36m, line \u001b[0;32m1\u001b[0m\n\u001b[0;31m    // %%javascript\u001b[0m\n\u001b[0m    ^\u001b[0m\n\u001b[0;31mSyntaxError\u001b[0m\u001b[0;31m:\u001b[0m invalid syntax\n"
     ]
    }
   ],
   "source": [
    "%%javascript\n",
    "IPython.notebook.kernel.execute('nb_name = \"' + IPython.notebook.notebook_name + '\"')\n",
    "\n",
    "nb_name\n",
    "\n",
    "name, extension = os.path.splitext(nb_name)\n",
    "\n",
    "print(extension)\n",
    "\n",
    "if extension == \".ipynb\":\n",
    "    print(\"is notebook\")\n",
    "else:\n",
    "    print(\"is .py\")"
   ]
  }
 ],
 "metadata": {
  "kernelspec": {
   "display_name": "Python 3",
   "language": "python",
   "name": "python3"
  },
  "language_info": {
   "codemirror_mode": {
    "name": "ipython",
    "version": 3
   },
   "file_extension": ".py",
   "mimetype": "text/x-python",
   "name": "python",
   "nbconvert_exporter": "python",
   "pygments_lexer": "ipython3",
   "version": "3.8.8"
  }
 },
 "nbformat": 4,
 "nbformat_minor": 5
}
