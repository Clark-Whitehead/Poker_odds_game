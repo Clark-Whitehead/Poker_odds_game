{
 "cells": [
  {
   "cell_type": "code",
   "execution_count": 1,
   "id": "7f074f3d",
   "metadata": {},
   "outputs": [
    {
     "name": "stderr",
     "output_type": "stream",
     "text": [
      "[\u001b[1;32mINFO\u001b[0m   ] [Logger      ] Record log in /home/clark/.kivy/logs/kivy_21-12-19_14.txt\n",
      "[\u001b[1;32mINFO\u001b[0m   ] [Kivy        ] v2.0.0\n",
      "[\u001b[1;32mINFO\u001b[0m   ] [Kivy        ] Installed at \"/home/clark/anaconda3/lib/python3.8/site-packages/kivy/__init__.py\"\n",
      "[\u001b[1;32mINFO\u001b[0m   ] [Python      ] v3.8.8 (default, Apr 13 2021, 19:58:26) \n",
      "[GCC 7.3.0]\n",
      "[\u001b[1;32mINFO\u001b[0m   ] [Python      ] Interpreter at \"/home/clark/anaconda3/bin/python\"\n",
      "[\u001b[1;32mINFO\u001b[0m   ] [Factory     ] 186 symbols loaded\n",
      "[\u001b[1;32mINFO\u001b[0m   ] [Image       ] Providers: img_tex, img_dds, img_sdl2, img_pil (img_ffpyplayer ignored)\n"
     ]
    }
   ],
   "source": [
    "from kivy.app import App\n",
    "from kivy.uix.widget import Widget"
   ]
  },
  {
   "cell_type": "code",
   "execution_count": 2,
   "id": "a7a820ac",
   "metadata": {},
   "outputs": [],
   "source": [
    "class MainWidget(Widget):\n",
    "    pass"
   ]
  },
  {
   "cell_type": "code",
   "execution_count": 3,
   "id": "f6c61e1f",
   "metadata": {},
   "outputs": [],
   "source": [
    "class thelabApp(App):\n",
    "    pass"
   ]
  },
  {
   "cell_type": "code",
   "execution_count": 4,
   "id": "bf96d3ec",
   "metadata": {},
   "outputs": [],
   "source": [
    "thelabApp().run()"
   ]
  },
  {
   "cell_type": "code",
   "execution_count": 5,
   "id": "1c813c57",
   "metadata": {},
   "outputs": [
    {
     "name": "stdout",
     "output_type": "stream",
     "text": [
      "[\u001b[1;32mINFO\u001b[0m   ] [Logger      ] Record log in /home/clark/.kivy/logs/kivy_21-12-19_16.txt\n",
      "[\u001b[1;32mINFO\u001b[0m   ] [Kivy        ] v2.0.0\n",
      "[\u001b[1;32mINFO\u001b[0m   ] [Kivy        ] Installed at \"/home/clark/anaconda3/lib/python3.8/site-packages/kivy/__init__.py\"\n",
      "[\u001b[1;32mINFO\u001b[0m   ] [Python      ] v3.8.8 (default, Apr 13 2021, 19:58:26) \n",
      "[GCC 7.3.0]\n",
      "[\u001b[1;32mINFO\u001b[0m   ] [Python      ] Interpreter at \"/home/clark/anaconda3/bin/python3\"\n",
      "[\u001b[1;32mINFO\u001b[0m   ] [Factory     ] 186 symbols loaded\n",
      "[\u001b[1;32mINFO\u001b[0m   ] [Image       ] Providers: img_tex, img_dds, img_sdl2, img_pil (img_ffpyplayer ignored)\n",
      "[\u001b[1;32mINFO\u001b[0m   ] [Window      ] Provider: sdl2\n",
      "[\u001b[1;32mINFO\u001b[0m   ] [GL          ] Using the \"OpenGL\" graphics system\n",
      "[\u001b[1;32mINFO\u001b[0m   ] [GL          ] Backend used <sdl2>\n",
      "[\u001b[1;32mINFO\u001b[0m   ] [GL          ] OpenGL version <b'4.6.0 NVIDIA 470.74'>\n",
      "[\u001b[1;32mINFO\u001b[0m   ] [GL          ] OpenGL vendor <b'NVIDIA Corporation'>\n",
      "[\u001b[1;32mINFO\u001b[0m   ] [GL          ] OpenGL renderer <b'NVIDIA GeForce RTX 2070/PCIe/SSE2'>\n",
      "[\u001b[1;32mINFO\u001b[0m   ] [GL          ] OpenGL parsed version: 4, 6\n",
      "[\u001b[1;32mINFO\u001b[0m   ] [GL          ] Shading version <b'4.60 NVIDIA'>\n",
      "[\u001b[1;32mINFO\u001b[0m   ] [GL          ] Texture max size <32768>\n",
      "[\u001b[1;32mINFO\u001b[0m   ] [GL          ] Texture max units <32>\n",
      "[\u001b[1;32mINFO\u001b[0m   ] [Window      ] auto add sdl2 input provider\n",
      "[\u001b[1;32mINFO\u001b[0m   ] [Window      ] virtual keyboard not allowed, single mode, not docked\n",
      "[\u001b[1;32mINFO\u001b[0m   ] [Text        ] Provider: sdl2\n",
      "[\u001b[1;32mINFO\u001b[0m   ] [Base        ] Start application main loop\n",
      "[\u001b[1;32mINFO\u001b[0m   ] [GL          ] NPOT texture support is available\n",
      "[\u001b[1;32mINFO\u001b[0m   ] [Base        ] Leaving application in progress...\n"
     ]
    }
   ],
   "source": [
    "!python3 main.py"
   ]
  }
 ],
 "metadata": {
  "kernelspec": {
   "display_name": "Python 3",
   "language": "python",
   "name": "python3"
  },
  "language_info": {
   "codemirror_mode": {
    "name": "ipython",
    "version": 3
   },
   "file_extension": ".py",
   "mimetype": "text/x-python",
   "name": "python",
   "nbconvert_exporter": "python",
   "pygments_lexer": "ipython3",
   "version": "3.8.8"
  }
 },
 "nbformat": 4,
 "nbformat_minor": 5
}
