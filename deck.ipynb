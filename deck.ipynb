{
 "cells": [
  {
   "cell_type": "markdown",
   "id": "55f3e199",
   "metadata": {},
   "source": [
    "# Imports"
   ]
  },
  {
   "cell_type": "code",
   "execution_count": 2,
   "id": "0ef253dc",
   "metadata": {},
   "outputs": [],
   "source": [
    "import random\n",
    "import holdem_calc"
   ]
  },
  {
   "cell_type": "markdown",
   "id": "2e1d8f0c",
   "metadata": {},
   "source": [
    "# Classes"
   ]
  },
  {
   "cell_type": "code",
   "execution_count": 3,
   "id": "5fd294ab",
   "metadata": {},
   "outputs": [],
   "source": [
    "class card:\n",
    "    def __init__(self, suit, val):\n",
    "        self.suit = suit\n",
    "        self.value = val\n",
    "        \n",
    "    def show(self):\n",
    "        print(\"{}{}\".format(self.value, self.suit))\n",
    "        \n",
    "# ace_of_clubs = card(\"clubs\", 1)\n",
    "# ace_of_clubs.show()\n",
    "\n",
    "class deck:\n",
    "    def __init__(self):\n",
    "        self.cards = []\n",
    "        self.build()\n",
    "        \n",
    "    def build(self):\n",
    "        for s in [\"s\", \"c\", \"d\", \"h\"]:\n",
    "            for v in range(2, 10):\n",
    "                self.cards.append(card(s, v))\n",
    "                \n",
    "        for s in [\"s\", \"c\", \"d\", \"h\"]:\n",
    "            for v in [\"T\", \"J\", \"Q\", \"K\", \"A\"]:\n",
    "                self.cards.append(card(s, v))\n",
    "                \n",
    "    def show(self):\n",
    "        for c in self.cards:\n",
    "            c.show()\n",
    "            \n",
    "    def shuffle(self):\n",
    "        random.shuffle(self.cards)\n",
    "            \n",
    "    def drawCard(self):\n",
    "        return self.cards.pop()\n",
    "            \n",
    "# deck1 = deck()\n",
    "# deck1.shuffle()\n",
    "# deck1.drawCard().show()\n",
    "# deck1.show()\n",
    "\n",
    "class player:\n",
    "    \n",
    "    def __init__(self, name):\n",
    "        self.name = name\n",
    "        self.hand = []\n",
    "        \n",
    "    def draw(self, deck):\n",
    "        self.hand.append(deck.drawCard())\n",
    "        return self\n",
    "        \n",
    "    def showHand(self):\n",
    "        print()\n",
    "        print(\"------------------------------------\")\n",
    "        print(\"{}'s Cards\".format(self.name))\n",
    "        for card in self.hand:\n",
    "            card.show()\n",
    "        print(\"------------------------------------\")\n",
    "        print()\n",
    "            \n"
   ]
  },
  {
   "cell_type": "markdown",
   "id": "7cf679a1",
   "metadata": {},
   "source": [
    "# Create Players and Assign Hands"
   ]
  },
  {
   "cell_type": "code",
   "execution_count": 4,
   "id": "72c5ef25",
   "metadata": {},
   "outputs": [],
   "source": [
    "deck1 = deck()\n",
    "deck1.shuffle()\n",
    "  \n",
    "numPlayers = 2\n",
    "# numPlayers = random.randint(1,6)\n",
    "\n",
    "players = []\n",
    "\n",
    "for i in range(numPlayers):\n",
    "    players.append(player(\"player{}\".format(i)))\n",
    "    players[i].draw(deck1)\n",
    "    players[i].draw(deck1)\n",
    "#     players[i].showHand()\n",
    "    \n",
    "# print(listPlayers)\n",
    "    \n",
    "# player1 = player(\"clark\")\n",
    "# player1.draw(deck1)\n",
    "# player1.draw(deck1)\n",
    "# player2 = player(\"Tyler\")\n",
    "# player2.draw(deck1)\n",
    "# player2.draw(deck1)\n",
    "# player1.showHand()\n",
    "# player2.showHand()\n",
    "# players = [player1, player2]\n",
    "# # deck1.show()\n",
    "# # print(dir(player1.hand[0]))\n",
    "# print(\"{}{}\".format(players[0].hand[0].value, players[0].hand[0].suit))"
   ]
  },
  {
   "cell_type": "markdown",
   "id": "3d8e1256",
   "metadata": {},
   "source": [
    "# Calculate probability Player1 wins"
   ]
  },
  {
   "cell_type": "code",
   "execution_count": 5,
   "id": "4cffc3e4",
   "metadata": {},
   "outputs": [],
   "source": [
    "def probability_win(players):\n",
    "    \n",
    "    handsList = []\n",
    "    \n",
    "    for player in players:\n",
    "        for i in range(len(player.hand)):\n",
    "            handsList.append(\"{}{}\".format(player.hand[i].value, player.hand[i].suit))\n",
    "    \n",
    "#     print(handsList)\n",
    "    \n",
    "    return handsList, holdem_calc.calculate(None, False, 10000, None, handsList, False)\n",
    "  \n",
    "handsList, odds = probability_win(players)"
   ]
  },
  {
   "cell_type": "code",
   "execution_count": 7,
   "id": "ec3bfd85",
   "metadata": {},
   "outputs": [],
   "source": [
    "# handsList"
   ]
  },
  {
   "cell_type": "code",
   "execution_count": null,
   "id": "0deb08ee",
   "metadata": {},
   "outputs": [],
   "source": [
    "clark = \"clark\""
   ]
  }
 ],
 "metadata": {
  "kernelspec": {
   "display_name": "Python 3",
   "language": "python",
   "name": "python3"
  },
  "language_info": {
   "codemirror_mode": {
    "name": "ipython",
    "version": 3
   },
   "file_extension": ".py",
   "mimetype": "text/x-python",
   "name": "python",
   "nbconvert_exporter": "python",
   "pygments_lexer": "ipython3",
   "version": "3.8.8"
  }
 },
 "nbformat": 4,
 "nbformat_minor": 5
}
